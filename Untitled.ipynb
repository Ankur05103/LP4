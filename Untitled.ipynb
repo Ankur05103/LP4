{
 "cells": [
  {
   "cell_type": "code",
   "execution_count": null,
   "id": "150bf226-de9c-4b13-a247-17bcf676e317",
   "metadata": {},
   "outputs": [],
   "source": []
  }
 ],
 "metadata": {
  "kernelspec": {
   "display_name": "",
   "name": ""
  },
  "language_info": {
   "name": ""
  }
 },
 "nbformat": 4,
 "nbformat_minor": 5
}
